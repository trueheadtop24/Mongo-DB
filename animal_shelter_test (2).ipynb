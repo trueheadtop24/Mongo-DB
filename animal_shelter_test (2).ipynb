{
 "cells": [
  {
   "cell_type": "code",
   "execution_count": null,
   "id": "307beef4",
   "metadata": {},
   "outputs": [],
   "source": [
    "from pymongo import MongoClient\n",
    "from pymongo.errors import ConnectionFailure\n",
    "\n",
    "class AnimalShelter(object):\n",
    "    \"\"\"CRUD operations for Animal collection in MongoDB\"\"\"\n",
    "\n",
    "    def __init__(self, username='aacuser', password='SNHU1234', host='nv-desktop-services.apporto.com', port=31580, db='aac', collection='animals'):\n",
    "        try:\n",
    "            self.client = MongoClient(f'mongodb://{username}:{password}@{host}:{port}/')\n",
    "            self.database = self.client[db]\n",
    "            self.collection = self.database[collection]\n",
    "            print(\"Connected to MongoDB.\")\n",
    "        except ConnectionFailure as e:\n",
    "            print(f\"Connection error: {e}\")\n",
    "\n",
    "    def create(self, data):\n",
    "        \"\"\"Insert a document into the collection\"\"\"\n",
    "        if data is not None and isinstance(data, dict):\n",
    "            result = self.collection.insert_one(data)\n",
    "            return True if result.acknowledged else False\n",
    "        else:\n",
    "            raise Exception(\"Invalid data. Must be a non-empty dictionary.\")\n",
    "\n",
    "    def read(self, query):\n",
    "        \"\"\"Read documents matching the query\"\"\"\n",
    "        if query is not None and isinstance(query, dict):\n",
    "            results = list(self.collection.find(query))\n",
    "            return results\n",
    "        else:\n",
    "            raise Exception(\"Invalid query. Must be a dictionary.\")\n"
   ]
  }
 ],
 "metadata": {
  "kernelspec": {
   "display_name": "Python 3 (ipykernel)",
   "language": "python",
   "name": "python3"
  },
  "language_info": {
   "codemirror_mode": {
    "name": "ipython",
    "version": 3
   },
   "file_extension": ".py",
   "mimetype": "text/x-python",
   "name": "python",
   "nbconvert_exporter": "python",
   "pygments_lexer": "ipython3",
   "version": "3.9.12"
  }
 },
 "nbformat": 4,
 "nbformat_minor": 5
}
